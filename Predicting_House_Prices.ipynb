{
  "nbformat": 4,
  "nbformat_minor": 5,
  "metadata": {
    "noteable-chatgpt": {
      "create_notebook": {
        "openai_conversation_id": "202c2c19-0850-5d96-b375-86c57c2021f8",
        "openai_ephemeral_user_id": "649cf6fa-9218-58e9-8574-59c196ec10dd",
        "openai_subdivision1_iso_code": "US-TX"
      }
    },
    "kernel_info": {
      "name": "python3"
    },
    "noteable": {
      "last_transaction_id": "357e5fa0-480e-4e60-83a6-3556bd3f4aa6"
    },
    "kernelspec": {
      "display_name": "Python 3.9",
      "language": "python",
      "name": "python3"
    }
  },
  "cells": [
    {
      "id": "2c698475-2397-4087-bfc6-4d44967eab19",
      "cell_type": "code",
      "metadata": {
        "noteable": {
          "cell_type": "code",
          "output_collection_id": "a5400139-16c0-4d2f-b15a-c579f850c8ff"
        },
        "ExecuteTime": {
          "end_time": "2023-07-26T18:07:55.648362+00:00",
          "start_time": "2023-07-26T18:07:55.241208+00:00"
        },
        "datalink": {
          "79f10b66-e98a-4824-abe4-7a8f87421850": {
            "applied_filters": [],
            "dataframe_info": {
              "default_index_used": true,
              "orig_num_cols": 10,
              "orig_num_rows": 5,
              "orig_size_bytes": 440,
              "truncated_num_cols": 10,
              "truncated_num_rows": 5,
              "truncated_size_bytes": 440,
              "truncated_string_columns": []
            },
            "display_id": "79f10b66-e98a-4824-abe4-7a8f87421850",
            "dx_settings": {
              "ALLOW_NOTEABLE_ATTRS": true,
              "COLUMN_SAMPLING_METHOD": "outer",
              "DB_LOCATION": ":memory:",
              "DEV_MODE": false,
              "DISPLAY_MAX_COLUMNS": 100,
              "DISPLAY_MAX_ROWS": 50000,
              "DISPLAY_MODE": "simple",
              "ENABLE_ASSIGNMENT": true,
              "ENABLE_DATALINK": true,
              "FLATTEN_COLUMN_VALUES": true,
              "FLATTEN_INDEX_VALUES": false,
              "GENERATE_DEX_METADATA": false,
              "HTML_TABLE_SCHEMA": false,
              "LOG_LEVEL": 30,
              "MAX_RENDER_SIZE_BYTES": 104857600,
              "MAX_STRING_LENGTH": 250,
              "NUM_PAST_SAMPLES_TRACKED": 3,
              "RANDOM_STATE": 12648430,
              "RESET_INDEX_VALUES": false,
              "ROW_SAMPLING_METHOD": "random",
              "SAMPLING_FACTOR": 0.1,
              "SAMPLING_METHOD": "random",
              "STRINGIFY_COLUMN_VALUES": true,
              "STRINGIFY_INDEX_VALUES": false
            },
            "sample_history": [],
            "sampling_time": "2023-07-26T18:07:55.489952",
            "user_variable_name": null,
            "variable_name": "unk_dataframe_c4f8b8a22922462daf9f3361e6b8bef0"
          }
        }
      },
      "execution_count": null,
      "source": "import pandas as pd\n\n# Load the dataset\ndf = pd.read_csv('HPI_master.csv')\n\n# Display the first few rows of the dataframe\ndf.head()",
      "outputs": []
    },
    {
      "id": "ae5b5b72-7e03-4abc-94ed-26c01b2c7582",
      "cell_type": "code",
      "metadata": {
        "noteable": {
          "cell_type": "code",
          "output_collection_id": "ef0b523a-7964-4ce1-80a9-b2e7f49a4bd1"
        },
        "ExecuteTime": {
          "end_time": "2023-07-26T18:08:30.170433+00:00",
          "start_time": "2023-07-26T18:08:29.869294+00:00"
        },
        "datalink": {
          "b49eeb02-4d45-4f48-8e24-3a368f0a00c0": {
            "applied_filters": [],
            "dataframe_info": {
              "default_index_used": false,
              "orig_num_cols": 1,
              "orig_num_rows": 10,
              "orig_size_bytes": 160,
              "truncated_num_cols": 1,
              "truncated_num_rows": 10,
              "truncated_size_bytes": 160,
              "truncated_string_columns": []
            },
            "display_id": "b49eeb02-4d45-4f48-8e24-3a368f0a00c0",
            "dx_settings": {
              "ALLOW_NOTEABLE_ATTRS": true,
              "COLUMN_SAMPLING_METHOD": "outer",
              "DB_LOCATION": ":memory:",
              "DEV_MODE": false,
              "DISPLAY_MAX_COLUMNS": 100,
              "DISPLAY_MAX_ROWS": 50000,
              "DISPLAY_MODE": "simple",
              "ENABLE_ASSIGNMENT": true,
              "ENABLE_DATALINK": true,
              "FLATTEN_COLUMN_VALUES": true,
              "FLATTEN_INDEX_VALUES": false,
              "GENERATE_DEX_METADATA": false,
              "HTML_TABLE_SCHEMA": false,
              "LOG_LEVEL": 30,
              "MAX_RENDER_SIZE_BYTES": 104857600,
              "MAX_STRING_LENGTH": 250,
              "NUM_PAST_SAMPLES_TRACKED": 3,
              "RANDOM_STATE": 12648430,
              "RESET_INDEX_VALUES": false,
              "ROW_SAMPLING_METHOD": "random",
              "SAMPLING_FACTOR": 0.1,
              "SAMPLING_METHOD": "random",
              "STRINGIFY_COLUMN_VALUES": true,
              "STRINGIFY_INDEX_VALUES": false
            },
            "sample_history": [],
            "sampling_time": "2023-07-26T18:08:30.013513",
            "user_variable_name": null,
            "variable_name": "unk_dataframe_e621462ea43f4af5a04a7a3ffadbb237"
          }
        }
      },
      "execution_count": null,
      "source": "# Check for missing values\ndf.isnull().sum()",
      "outputs": []
    },
    {
      "id": "7130aa15-c8d9-41e0-82d6-20254dc6de67",
      "cell_type": "code",
      "metadata": {
        "noteable": {
          "cell_type": "code",
          "output_collection_id": "1f7c41a9-4788-4a82-a870-c3f598c32118"
        },
        "ExecuteTime": {
          "end_time": "2023-07-26T18:09:59.594827+00:00",
          "start_time": "2023-07-26T18:09:59.278756+00:00"
        },
        "datalink": {
          "5d21f55f-4583-4c40-bd7d-6b539c19ca78": {
            "applied_filters": [],
            "dataframe_info": {
              "default_index_used": false,
              "orig_num_cols": 1,
              "orig_num_rows": 10,
              "orig_size_bytes": 160,
              "truncated_num_cols": 1,
              "truncated_num_rows": 10,
              "truncated_size_bytes": 160,
              "truncated_string_columns": []
            },
            "display_id": "5d21f55f-4583-4c40-bd7d-6b539c19ca78",
            "dx_settings": {
              "ALLOW_NOTEABLE_ATTRS": true,
              "COLUMN_SAMPLING_METHOD": "outer",
              "DB_LOCATION": ":memory:",
              "DEV_MODE": false,
              "DISPLAY_MAX_COLUMNS": 100,
              "DISPLAY_MAX_ROWS": 50000,
              "DISPLAY_MODE": "simple",
              "ENABLE_ASSIGNMENT": true,
              "ENABLE_DATALINK": true,
              "FLATTEN_COLUMN_VALUES": true,
              "FLATTEN_INDEX_VALUES": false,
              "GENERATE_DEX_METADATA": false,
              "HTML_TABLE_SCHEMA": false,
              "LOG_LEVEL": 30,
              "MAX_RENDER_SIZE_BYTES": 104857600,
              "MAX_STRING_LENGTH": 250,
              "NUM_PAST_SAMPLES_TRACKED": 3,
              "RANDOM_STATE": 12648430,
              "RESET_INDEX_VALUES": false,
              "ROW_SAMPLING_METHOD": "random",
              "SAMPLING_FACTOR": 0.1,
              "SAMPLING_METHOD": "random",
              "STRINGIFY_COLUMN_VALUES": true,
              "STRINGIFY_INDEX_VALUES": false
            },
            "sample_history": [],
            "sampling_time": "2023-07-26T18:09:59.438791",
            "user_variable_name": null,
            "variable_name": "unk_dataframe_49fe815a60994d06b30886d631f153b8"
          }
        }
      },
      "execution_count": null,
      "source": "# Fill missing values with the mean of the column\ndf['index_nsa'].fillna(df['index_nsa'].mean(), inplace=True)\ndf['index_sa'].fillna(df['index_sa'].mean(), inplace=True)\n\n# Check again for missing values\ndf.isnull().sum()",
      "outputs": []
    },
    {
      "id": "7d56fb5f-9d72-40b2-8714-dafed3e72453",
      "cell_type": "code",
      "metadata": {
        "noteable": {
          "cell_type": "code",
          "output_collection_id": "8abe3f32-37a2-42cb-8c15-332406d57eeb"
        },
        "ExecuteTime": {
          "end_time": "2023-07-26T18:10:31.714412+00:00",
          "start_time": "2023-07-26T18:10:30.796706+00:00"
        }
      },
      "execution_count": null,
      "source": "import matplotlib.pyplot as plt\n\n# Plot the distribution of house prices\nplt.figure(figsize=(10, 6))\nplt.hist(df['index_nsa'], bins=30, color='skyblue', edgecolor='black')\nplt.title('Distribution of House Prices')\nplt.xlabel('House Price Index')\nplt.ylabel('Frequency')\nplt.show()",
      "outputs": []
    },
    {
      "id": "7a5eccdb-ace6-4393-9d75-6b70792d6ade",
      "cell_type": "code",
      "metadata": {
        "noteable": {
          "cell_type": "code",
          "output_collection_id": "8e81da56-a09c-424c-a619-befbd9162e00"
        },
        "ExecuteTime": {
          "end_time": "2023-07-26T18:10:51.585846+00:00",
          "start_time": "2023-07-26T18:10:51.385922+00:00"
        },
        "datalink": {
          "e5b2a923-d6de-4eac-ac8b-d583b33ac9a1": {
            "applied_filters": [],
            "dataframe_info": {
              "default_index_used": false,
              "orig_num_cols": 1,
              "orig_num_rows": 4,
              "orig_size_bytes": 64,
              "truncated_num_cols": 1,
              "truncated_num_rows": 4,
              "truncated_size_bytes": 64,
              "truncated_string_columns": []
            },
            "display_id": "e5b2a923-d6de-4eac-ac8b-d583b33ac9a1",
            "dx_settings": {
              "ALLOW_NOTEABLE_ATTRS": true,
              "COLUMN_SAMPLING_METHOD": "outer",
              "DB_LOCATION": ":memory:",
              "DEV_MODE": false,
              "DISPLAY_MAX_COLUMNS": 100,
              "DISPLAY_MAX_ROWS": 50000,
              "DISPLAY_MODE": "simple",
              "ENABLE_ASSIGNMENT": true,
              "ENABLE_DATALINK": true,
              "FLATTEN_COLUMN_VALUES": true,
              "FLATTEN_INDEX_VALUES": false,
              "GENERATE_DEX_METADATA": false,
              "HTML_TABLE_SCHEMA": false,
              "LOG_LEVEL": 30,
              "MAX_RENDER_SIZE_BYTES": 104857600,
              "MAX_STRING_LENGTH": 250,
              "NUM_PAST_SAMPLES_TRACKED": 3,
              "RANDOM_STATE": 12648430,
              "RESET_INDEX_VALUES": false,
              "ROW_SAMPLING_METHOD": "random",
              "SAMPLING_FACTOR": 0.1,
              "SAMPLING_METHOD": "random",
              "STRINGIFY_COLUMN_VALUES": true,
              "STRINGIFY_INDEX_VALUES": false
            },
            "sample_history": [],
            "sampling_time": "2023-07-26T18:10:51.429758",
            "user_variable_name": null,
            "variable_name": "unk_dataframe_1a036093b7f3429ea1b92e67d90013f0"
          }
        }
      },
      "execution_count": null,
      "source": "# Calculate the correlation between the numerical features and the target variable\ncorrelation = df.corr()['index_nsa'].sort_values(ascending=False)\n\n# Display the correlation\ncorrelation",
      "outputs": []
    },
    {
      "id": "a2409afe-9a59-4950-81d3-abdd5ffc6f53",
      "cell_type": "code",
      "metadata": {
        "noteable": {
          "cell_type": "code",
          "output_collection_id": "ba96b1c5-88e7-4edc-a821-91838d60c4f3"
        },
        "ExecuteTime": {
          "end_time": "2023-07-26T18:11:23.098748+00:00",
          "start_time": "2023-07-26T18:11:22.435719+00:00"
        }
      },
      "execution_count": null,
      "source": "from sklearn.model_selection import train_test_split\n\n# Define the features and the target variable\nX = df[['yr', 'index_sa']]\ny = df['index_nsa']\n\n# Split the data into training and testing sets\nX_train, X_test, y_train, y_test = train_test_split(X, y, test_size=0.2, random_state=42)\n\n# Display the shapes of the training and testing sets\nX_train.shape, X_test.shape, y_train.shape, y_test.shape",
      "outputs": []
    },
    {
      "id": "31c2b118-92a9-4832-9138-0b6009bd8c59",
      "cell_type": "code",
      "metadata": {
        "noteable": {
          "cell_type": "code",
          "output_collection_id": "037df5b9-618f-45b1-ae15-f8baf2c828f9"
        },
        "ExecuteTime": {
          "end_time": "2023-07-26T18:11:52.742380+00:00",
          "start_time": "2023-07-26T18:11:52.440401+00:00"
        }
      },
      "execution_count": null,
      "source": "from sklearn.linear_model import LinearRegression\n\n# Initialize a Linear Regression model\nmodel = LinearRegression()\n\n# Train the model using the training data\nmodel.fit(X_train, y_train)",
      "outputs": []
    },
    {
      "id": "dfe14f6f-a3e2-47fb-8af3-eb5a052f54eb",
      "cell_type": "code",
      "metadata": {
        "noteable": {
          "cell_type": "code",
          "output_collection_id": "8d051955-3b96-4f39-9c9e-0e0a7b03e7ed"
        },
        "ExecuteTime": {
          "end_time": "2023-07-26T18:12:16.955009+00:00",
          "start_time": "2023-07-26T18:12:16.752048+00:00"
        }
      },
      "execution_count": null,
      "source": "from sklearn.metrics import mean_squared_error, r2_score\nimport numpy as np\n\n# Use the model to make predictions on the testing data\ny_pred = model.predict(X_test)\n\n# Calculate the evaluation metrics\nmse = mean_squared_error(y_test, y_pred)\nrmse = np.sqrt(mse)\nr2 = r2_score(y_test, y_pred)\n\n# Display the evaluation metrics\nmse, rmse, r2",
      "outputs": []
    }
  ]
}