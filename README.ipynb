{
  "nbformat": 4,
  "nbformat_minor": 5,
  "metadata": {
    "noteable-chatgpt": {
      "create_notebook": {
        "openai_conversation_id": "202c2c19-0850-5d96-b375-86c57c2021f8",
        "openai_ephemeral_user_id": "649cf6fa-9218-58e9-8574-59c196ec10dd",
        "openai_subdivision1_iso_code": "US-TX"
      }
    },
    "kernel_info": {
      "name": "python3"
    },
    "noteable": {
      "last_transaction_id": "1fe87e0b-2d12-4cb3-b58a-8bf451615d3a"
    },
    "kernelspec": {
      "display_name": "Python 3.9",
      "language": "python",
      "name": "python3"
    },
    "selected_hardware_size": "small"
  },
  "cells": [
    {
      "id": "d6a68aef-bc6e-4d90-9f16-effa20ee1b8c",
      "cell_type": "markdown",
      "source": "# Project: Predicting House Prices using Regression\n\nThis project involves building a predictive model using Linear Regression to estimate house prices based on various property features. The dataset used in this project was obtained from the Federal Housing Finance Agency (FHFA).\n\nThe key steps followed in this project include data preprocessing, exploratory data analysis, model selection, model training, model evaluation, and model interpretation.\n\nFor a detailed walkthrough of the project, please refer to the [Predicting_House_Prices_Documentation.ipynb](https://app.noteable.io/f/07850e41-d61e-4c42-874e-703fb5f9acd4/Predicting_House_Prices_Documentation.ipynb) notebook.",
      "metadata": {
        "noteable": {
          "cell_type": "markdown"
        }
      }
    }
  ]
}